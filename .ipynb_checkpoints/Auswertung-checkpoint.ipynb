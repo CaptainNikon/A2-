{
 "cells": [
  {
   "cell_type": "code",
   "execution_count": 115,
   "metadata": {},
   "outputs": [],
   "source": [
    "import numpy as np\n",
    "import matplotlib.pyplot as plt\n",
    "import matplotlib.cbook as cbook\n",
    "import matplotlib as mpl\n",
    "import scipy\n",
    "from sklearn import linear_model\n",
    "\n",
    "from scipy.optimize import curve_fit\n",
    "\n",
    "import pandas as pd\n",
    "import csv \n",
    "def conv(x):\n",
    "    return x.replace(\",\", \".\").encode()\n",
    "%matplotlib inline"
   ]
  },
  {
   "cell_type": "code",
   "execution_count": 116,
   "metadata": {},
   "outputs": [],
   "source": [
    "# 1. Kalibrieren der x-Achse, u_e Bestimmung \n",
    "# 2. Peaks in allen Messungen bestimmen und Zusammenhang plotten, ue Bestimmung \n",
    "# 3. Inhomogenität des Magnetfeldes bestimmen, del B delz Bestimmung \n",
    "# 4. Apparatekonstanten hinzufügen"
   ]
  },
  {
   "cell_type": "code",
   "execution_count": 174,
   "metadata": {},
   "outputs": [
    {
     "name": "stdout",
     "output_type": "stream",
     "text": [
      "101\n"
     ]
    },
    {
     "data": {
      "text/plain": [
       "<ErrorbarContainer object of 3 artists>"
      ]
     },
     "execution_count": 174,
     "metadata": {},
     "output_type": "execute_result"
    },
    {
     "data": {
      "image/png": "[encoded data removed]",
      "text/plain": [
       "<Figure size 432x288 with 1 Axes>"
      ]
     },
     "metadata": {
      "needs_background": "light"
     },
     "output_type": "display_data"
    }
   ],
   "source": [
    "bf1  = np.genfromtxt((conv(x) for x in open(\"A2-Lab_data/bfieldmeasures/bfiedl1.txt\")), delimiter =\"\\t\", skip_header = 10, usecols = (0,1))\n",
    "bf2  = np.genfromtxt((conv(x) for x in open(\"A2-Lab_data/bfieldmeasures/bfield2.txt\")), delimiter =\"\\t\", skip_header = 10, usecols = (0,1))\n",
    "bf3  = np.genfromtxt((conv(x) for x in open(\"A2-Lab_data/bfieldmeasures/bfield3.txt\")), delimiter =\"\\t\", skip_header = 10, usecols = (0,1))\n",
    "bf4  = np.genfromtxt((conv(x) for x in open(\"A2-Lab_data/bfieldmeasures/bfield4.txt\")), delimiter =\"\\t\", skip_header = 10, usecols = (0,1))\n",
    "bf5  = np.genfromtxt((conv(x) for x in open(\"A2-Lab_data/bfieldmeasures/bfield5.txt\")), delimiter =\"\\t\", skip_header = 10, usecols = (0,1))\n",
    "bf6  = np.genfromtxt((conv(x) for x in open(\"A2-Lab_data/bfieldmeasures/bfield6.txt\")), delimiter =\"\\t\", skip_header = 10, usecols = (0,1))\n",
    "bf7  = np.genfromtxt((conv(x) for x in open(\"A2-Lab_data/bfieldmeasures/bfield7.txt\")), delimiter =\"\\t\", skip_header = 10, usecols = (0,1))\n",
    "bf8  = np.genfromtxt((conv(x) for x in open(\"A2-Lab_data/bfieldmeasures/bfield8.txt\")), delimiter =\"\\t\", skip_header = 10, usecols = (0,1))\n",
    "bf9  = np.genfromtxt((conv(x) for x in open(\"A2-Lab_data/bfieldmeasures/bfield9.txt\")), delimiter =\"\\t\", skip_header = 10, usecols = (0,1))\n",
    "bf10 = np.genfromtxt((conv(x) for x in open(\"A2-Lab_data/bfieldmeasures/bfield10.txt\")), delimiter =\"\\t\", skip_header = 10, usecols = (0,1))\n",
    "bf11 = np.genfromtxt((conv(x) for x in open(\"A2-Lab_data/bfieldmeasures/bfield11.txt\")), delimiter =\"\\t\", skip_header = 10, usecols = (0,1))\n",
    "\n",
    "\n",
    "\n",
    "bf1c = 400 + (bf1[:,0] - 400) / (1000 - 400) * (980 - 400)\n",
    "bf2c = 450 + (bf2[:,0] - 400) / (1000 - 400) * (985 - 400)\n",
    "bf3c = 450 + (bf3[:,0] - 450) / (1000 - 450) * (983 - 450)\n",
    "bf4c = 450 + (bf4[:,0] - 450) / (1000 - 450) * (989 - 450)\n",
    "bf5c = 450 + (bf5[:,0] - 450) / (1000 - 450) * (990 - 450) \n",
    "bf6c = 450 + (bf6[:,0] - 450) / (1000 - 450) * (994 - 450)\n",
    "bf7c = 450 + (bf7[:,0] - 450) / (1000 - 450) * (996 - 450)\n",
    "bf8c = 450 + (bf8[:,0] - 450) / (1000 - 450) * (996 - 450)\n",
    "bf9c = 450 + (bf9[:,0] - 450) / (1000 - 450) * (996 - 450) \n",
    "bf10c = 450 + (bf10[:,0] - 450) / (1000 - 450) * (997 - 450)\n",
    "bf11c = 450 + (bf11[:,0] - 450) / (1000 - 450) * (997 - 450)\n",
    "\n",
    "bf = [bf1[:,1],bf3[:,1], bf4[:,1], bf5[:,1],bf6[:,1],bf7[:,1],bf8[:,1],bf9[:,1],bf10[:,1],bf11[:,1]]\n",
    "bfc = [bf1c,bf3c, bf4c, bf5c,bf6c,bf7c,bf8c,bf9c,bf10c,bf11c]\n",
    "\n",
    "#using : \n",
    "#val1 + (x - max1) / (max2 - max1) * (val2 - val1) = x \n",
    "#val1, val2 Anfangs & Endwert abgelesen\n",
    "#max1, max2 Anfangs & Endwerte aus den Daten\n",
    "#x sind die x Datenpunkte\n",
    "#==> Fehler in val1 & val2\n",
    "\n",
    "a =1\n",
    "xer = (a)/(2 * np.sqrt(3))\n",
    "\n",
    "u_val1 = np.sqrt(((bf1[:,0]- 400)/(1000-400)*xer)**2)\n",
    "u_val2 = np.sqrt( ((bf1[:,0]- 400)/(1000-400)*xer + xer)**2 )\n",
    "\n",
    "u_ges = np.sqrt( (u_val1)**2 + (u_val2)**2 )\n",
    "print(len(u_ges))\n",
    "\n",
    "#Unsicherheit von bf1, dabei \n",
    "plt.plot(bfc[0],bf[0],\".\")\n",
    "plt.errorbar(bfc[0],bf[0], xerr = u_ges, ecolor = \"grey\",fmt=\".\",capsize=6)\n",
    "\n",
    "\n",
    "\n",
    "\n",
    "\n",
    "#for i in np.arange(0,len(bf)):\n",
    "    #plt.plot(bfc[i],bf[i],\".\")\n",
    "    #plt.errorbar(bfc[i],bf[i], xerr = u_ges, ecolor = \"grey\",fmt=\".\",capsize=2)"
   ]
  },
  {
   "cell_type": "code",
   "execution_count": null,
   "metadata": {},
   "outputs": [],
   "source": []
  },
  {
   "cell_type": "code",
   "execution_count": null,
   "metadata": {},
   "outputs": [],
   "source": []
  }
 ],
 "metadata": {
  "kernelspec": {
   "display_name": "Python 3 (ipykernel)",
   "language": "python",
   "name": "python3"
  },
  "language_info": {
   "codemirror_mode": {
    "name": "ipython",
    "version": 3
   },
   "file_extension": ".py",
   "mimetype": "text/x-python",
   "name": "python",
   "nbconvert_exporter": "python",
   "pygments_lexer": "ipython3",
   "version": "3.9.7"
  },
  "vscode": {
   "interpreter": {
    "hash": "23e0aedb6d47e040503db7fcf09a0dff3cea72eb7d5d4c2596a602b1504b448c"
   }
  }
 },
 "nbformat": 4,
 "nbformat_minor": 2
}
