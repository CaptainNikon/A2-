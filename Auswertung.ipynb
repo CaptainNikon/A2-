{
 "cells": [
  {
   "cell_type": "code",
   "execution_count": 1,
   "metadata": {},
   "outputs": [],
   "source": [
    "import numpy as np\n",
    "import matplotlib.pyplot as plt\n",
    "import scipy"
   ]
  },
  {
   "cell_type": "code",
   "execution_count": 2,
   "metadata": {},
   "outputs": [],
   "source": [
    "# 1. Kalibrieren der x-Achse, u_e Bestimmung \n",
    "# 2. Peaks in allen Messungen bestimmen und Zusammenhang plotten, ue Bestimmung \n",
    "# 3. Inhomogenität des Magnetfeldes bestimmen, del B delz Bestimmung \n",
    "# 4. Apparatekonstanten hinzufügen"
   ]
  },
  {
   "cell_type": "code",
   "execution_count": 3,
   "metadata": {},
   "outputs": [],
   "source": [
    "#Datenimport"
   ]
  },
  {
   "cell_type": "code",
   "execution_count": null,
   "metadata": {},
   "outputs": [],
   "source": []
  }
 ],
 "metadata": {
  "kernelspec": {
   "display_name": "Python 3",
   "language": "python",
   "name": "python3"
  },
  "language_info": {
   "codemirror_mode": {
    "name": "ipython",
    "version": 3
   },
   "file_extension": ".py",
   "mimetype": "text/x-python",
   "name": "python",
   "nbconvert_exporter": "python",
   "pygments_lexer": "ipython3",
   "version": "3.10.8"
  },
  "orig_nbformat": 4,
  "vscode": {
   "interpreter": {
    "hash": "23e0aedb6d47e040503db7fcf09a0dff3cea72eb7d5d4c2596a602b1504b448c"
   }
  }
 },
 "nbformat": 4,
 "nbformat_minor": 2
}
