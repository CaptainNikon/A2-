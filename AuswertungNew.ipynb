{
 "cells": [
  {
   "cell_type": "code",
   "execution_count": 1,
   "metadata": {
    "scrolled": true
   },
   "outputs": [],
   "source": [
    "import numpy as np\n",
    "import matplotlib.pyplot as plt\n",
    "import matplotlib as mpl\n",
    "from scipy.optimize import curve_fit\n",
    "from scipy import constants as const\n",
    "\n",
    "def conv(x):\n",
    "    return x.replace(\",\", \".\").encode()\n",
    "%matplotlib inline"
   ]
  },
  {
   "cell_type": "code",
   "execution_count": 2,
   "metadata": {},
   "outputs": [],
   "source": [
    "# 1. Kalibrieren der x-Achse, u_e Bestimmung \n",
    "# 2. Peaks in allen Messungen bestimmen und Zusammenhang plotten, ue Bestimmung \n",
    "# 3. Inhomogenität des Magnetfeldes bestimmen, del B delz Bestimmung \n",
    "# 4. Apparatekonstanten hinzufügen"
   ]
  },
  {
   "cell_type": "code",
   "execution_count": 3,
   "metadata": {},
   "outputs": [],
   "source": [
    "bf1  = np.array(np.genfromtxt((conv(x) for x in open(\"bfieldmeasures/bfiedl1\")), delimiter =\"\\t\", skip_header = 3))\n",
    "bf2  = np.array(np.genfromtxt((conv(x) for x in open(\"bfieldmeasures/bfield2\")), delimiter =\"\\t\", skip_header = 3))\n",
    "bf3  = np.array(np.genfromtxt((conv(x) for x in open(\"bfieldmeasures/bfield3\")), delimiter =\"\\t\", skip_header = 3))\n",
    "bf4  = np.array(np.genfromtxt((conv(x) for x in open(\"bfieldmeasures/bfield4\")), delimiter =\"\\t\", skip_header = 3))\n",
    "bf5  = np.array(np.genfromtxt((conv(x) for x in open(\"bfieldmeasures/bfield5\")), delimiter =\"\\t\", skip_header = 3))\n",
    "bf6  = np.array(np.genfromtxt((conv(x) for x in open(\"bfieldmeasures/bfield6\")), delimiter =\"\\t\", skip_header = 3))\n",
    "bf7  = np.array(np.genfromtxt((conv(x) for x in open(\"bfieldmeasures/bfield7\")), delimiter =\"\\t\", skip_header = 3))\n",
    "bf8  = np.array(np.genfromtxt((conv(x) for x in open(\"bfieldmeasures/bfield8\")), delimiter =\"\\t\", skip_header = 3))\n",
    "bf9  = np.array(np.genfromtxt((conv(x) for x in open(\"bfieldmeasures/bfield9\")), delimiter =\"\\t\", skip_header = 3))\n",
    "bf10 = np.array(np.genfromtxt((conv(x) for x in open(\"bfieldmeasures/bfield10\")), delimiter =\"\\t\", skip_header = 3))\n",
    "bf11 = np.array(np.genfromtxt((conv(x) for x in open(\"bfieldmeasures/bfield11\")), delimiter =\"\\t\", skip_header = 3))\n",
    "\n",
    "bfields = [bf1,bf3,bf4,bf5,bf6,bf7,bf8,bf9,bf10,bf11]"
   ]
  },
  {
   "cell_type": "code",
   "execution_count": 4,
   "metadata": {},
   "outputs": [],
   "source": [
    "xcalib = [(400,1000),(450,1000),(450,1000),(450,1000),(450,1000),(450,1000),(450,1000),(450,1000),(450,1000),(450,1000)]\n",
    "ycalib = [(400,980),(450,983),(450,989),(450,990),(450,994),(450,996),(450,996),(450,996),(450,997),(450,997)]\n",
    "\n",
    "def linear(m:float,b:float,x:np.ndarray):\n",
    "    return m*x+b\n",
    "\n",
    "bcalibrated =[]\n",
    "\n",
    "for  i in range(len(xcalib)-10):\n",
    "    popt,_ = curve_fit(linear,xcalib[i],ycalib[i])\n",
    "    bcalibrated.append(popt[1]*bfields[i][:,0]+popt[0])\n",
    "    \n",
    "    #plt.plot(bfields[i][:,0],bfields[i][:,1], label=\"Daten vor Korrektur\")\n",
    "    #plt.plot(popt[1]*bfields[i][:,0]+popt[0],bfields[i][:,1],label=\"Daten nach der Korrektur\")\n",
    "    plt.plot(popt[1]*bfields[i][:,0]+popt[0],bfields[i][:,1],label=\"Messung \"+str(i+1))\n",
    "    plt.xlabel(r\"Spindelschritte\",fontsize = 12)\n",
    "    plt.ylabel(r\"Anzahl der Counts\", fontsize = 12)\n",
    "    plt.legend(loc=0)\n",
    "    plt.grid(True)\n",
    "    #plt.savefig(\"Plots/AlleMessungen.pdf\")\n",
    "    #plt.savefig(\"Plots/Korrektur-x-Achse.pdf\")"
   ]
  },
  {
   "cell_type": "code",
   "execution_count": 5,
   "metadata": {},
   "outputs": [],
   "source": [
    "#Berechnung des Messfehlers der Ofenposition (also x-Achse) in Mikrometern\n",
    "a = 1\n",
    "u_Ofen = np.sqrt(((a)/(2 * np.sqrt(3)))**2+(0.5)**2)"
   ]
  },
  {
   "cell_type": "code",
   "execution_count": 6,
   "metadata": {},
   "outputs": [],
   "source": [
    "#Definition der Gauß Funktion\n",
    "def doublegaussian(x: np.ndarray,\n",
    "    a: float, mu1: float, sigma1: float,\n",
    "    b: float, mu2: float, sigma2: float,\n",
    "    y0: float): \n",
    "    return (\n",
    "        y0\n",
    "        + a * np.exp(-(np.abs(x-mu1)/(np.sqrt(2)*sigma1))**2)\n",
    "        + b * np.exp(-(np.abs(x-mu2)/(np.sqrt(2)*sigma2))**2)\n",
    "    )"
   ]
  },
  {
   "cell_type": "code",
   "execution_count": 55,
   "metadata": {},
   "outputs": [],
   "source": [
    "#Fitten mit der Gauß-Funktion\n",
    "def fitdoublegaussian(array:np.ndarray,p0:float,ap:list, uap:list):\n",
    "    #Array Import und Fit\n",
    "    x,y = array.T[0:2]\n",
    "    popt1,pcov1 = curve_fit(doublegaussian,x,y,p0=p0)\n",
    "    \n",
    "    #Abstand zum Mittelwert, Gewichteter Mittelwert\n",
    "    mean = np.abs((popt1[1] - popt1[4])/2)\n",
    "    #mean = np.abs((popt1[4] - popt1[1]*popt1[2] + popt1[4]*popt1[5])/(popt1[2]+popt1[5]))\n",
    "    \n",
    "    #Messfehler Mittelwert\n",
    "    umean = np.sqrt(( popt1[2] )**2 + (popt1[5])**2)\n",
    "    \n",
    "    ap.append(mean)\n",
    "    uap.append(umean)\n",
    "    \n",
    "    print(\"Peak1: \"+str(popt1[1]),\"+/-\",\"Abweichung: \"+str(popt1[2]),\";\",\"Peak2: \"+str(popt1[4]),\"+/-\",\"Abweichung: \"+str(popt1[5]))\n",
    "    #plt.scatter(x,y,label=\"data\",s=2)\n",
    "    #plt.plot(x,doublegaussian(x,*popt1),label=\"fit\"+str(i))\n",
    "    #plt.legend(loc=0)\n",
    "    #plt.xlabel(r\"$u_e$\")\n",
    "    #plt.grid(True)\n",
    "    #plt.show()\n",
    "    #plt.savefig(\"doublegauß.png\")"
   ]
  },
  {
   "cell_type": "markdown",
   "metadata": {},
   "source": [
    "#plt.plot(np.arange(0,len(bf4[:,0])),bf4[:,1])\n",
    "plt.plot(bf3[:,0],bf3[:,1])\n",
    "plt.xlim(600,800)\n",
    "plt.grid(True)\n",
    "#plt.plot(np.arange(0,bf1[:,0]),bf1[:,1])"
   ]
  },
  {
   "cell_type": "code",
   "execution_count": 56,
   "metadata": {},
   "outputs": [
    {
     "name": "stdout",
     "output_type": "stream",
     "text": [
      "Peak1: 684.609268509044 +/- Abweichung: 34.002007085460406 ; Peak2: 775.6495187634439 +/- Abweichung: 25.87614046344912\n",
      "Peak1: 676.5924640966874 +/- Abweichung: 31.00214860771361 ; Peak2: 790.7639512384935 +/- Abweichung: 24.269612897760414\n",
      "Peak1: 799.594177588304 +/- Abweichung: 24.238065558092412 ; Peak2: 673.8831521363201 +/- Abweichung: 30.562972906931016\n",
      "Peak1: 667.243061364192 +/- Abweichung: 30.635302737944848 ; Peak2: 795.5419761465953 +/- Abweichung: 24.583311266740154\n",
      "Peak1: 660.4110371796768 +/- Abweichung: 33.427394781202686 ; Peak2: 801.6138413268905 +/- Abweichung: 26.249092829529914\n",
      "Peak1: 805.9948204014543 +/- Abweichung: 28.698544948412422 ; Peak2: 651.6459237364269 +/- Abweichung: 36.153862677584705\n",
      "Peak1: 810.7133106808044 +/- Abweichung: 30.425740072184258 ; Peak2: 644.4064820853118 +/- Abweichung: 38.965232034337106\n",
      "Peak1: 635.0805839423195 +/- Abweichung: 47.56838624037998 ; Peak2: 816.6216461790558 +/- Abweichung: 35.47649247082233\n",
      "Peak1: 629.6921849903318 +/- Abweichung: 51.24904509269983 ; Peak2: 828.6875495349778 +/- Abweichung: 38.17434772943769\n",
      "Peak1: 617.6809286767334 +/- Abweichung: 59.79611746000012 ; Peak2: 834.4241195015873 +/- Abweichung: 43.4728072362634\n",
      "[45.52012512719995, 57.08574357090305, 62.85551272599196, 64.14945739120162, 70.60140207360683, 77.17444833251369, 83.15341429774628, 90.77053111836813, 99.497682272323, 108.37159541242693]\n",
      "[42.72834107619729, 39.37191039944465, 39.007424099883664, 39.27926891736867, 42.501830504481276, 46.159595629356424, 49.43697974623702, 59.34081974110473, 63.904189592558055, 73.92875375854409]\n"
     ]
    }
   ],
   "source": [
    "ue= []\n",
    "uue= []\n",
    "\n",
    "fitdoublegaussian(bf1[30:80], (2.35*1e-11, 680, 30, 2.5*1e-11, 775, 30, 3e-12),ue,uue)\n",
    "fitdoublegaussian(bf3[60:160], (2*1e-11, 712, 20, 2.1 *1e-11, 800, 40, 1e-11),ue,uue)\n",
    "fitdoublegaussian(bf4[56:157], (2*1e-11, 790, 20, 2.1 *1e-11, 690, 40, 1e-11),ue,uue)\n",
    "fitdoublegaussian(bf5[56:150], (1.8*1e-11, 675, 30, 1.9 *1e-11, 782,20, 21e-11),ue,uue)\n",
    "fitdoublegaussian(bf6[48:156], (2*1e-11, 660, 40, 2.1 *1e-11, 770, 20, 0.6*1e-11),ue,uue)\n",
    "fitdoublegaussian(bf7[40:156], (2*1e-11, 790, 20, 2.1 *1e-11, 690, 40, 1e-11),ue,uue)\n",
    "fitdoublegaussian(bf8[35:160], (2*1e-11, 790, 20, 2.1 *1e-11, 690, 40, 1e-11),ue,uue)\n",
    "fitdoublegaussian(bf9[35:160], (1.4 *1e-11, 650, 20, 2.1 *1e-11, 810, 40, 0.4 * 1e-11),ue,uue)\n",
    "fitdoublegaussian(bf10[28:168], (2*1e-11, 645, 20, 2.1 *1e-11, 820, 40, 1e-11),ue,uue)\n",
    "fitdoublegaussian(bf11[25:170], (1.2*1e-11, 630, 20, 1.25 *1e-11, 825, 40, 0.35*1e-11),ue,uue)\n",
    "\n",
    "print(ue)\n",
    "print(uue)\n"
   ]
  },
  {
   "cell_type": "code",
   "execution_count": 58,
   "metadata": {},
   "outputs": [
    {
     "name": "stdout",
     "output_type": "stream",
     "text": [
      "[5.78582153e-24 5.27948043e-24]\n"
     ]
    },
    {
     "data": {
      "image/png": "[encoded data removed]",
      "text/plain": [
       "<Figure size 640x480 with 1 Axes>"
      ]
     },
     "metadata": {},
     "output_type": "display_data"
    }
   ],
   "source": [
    "#all list & const. \n",
    "L = 0.07 # in m \n",
    "l = 0.455 # in m \n",
    "a = 0.0025 # in m\n",
    "\n",
    "eps = 0.966   #epsilon Wert\n",
    "ueps = 0.023  #epsilon Unsicherheit \n",
    "\n",
    "#Daten aus den Messungen\n",
    "T = [458.15, 458.65,458.65,458.65,458.65,458.65,458.65,458.65,458.65,459.15]\n",
    "I = [0.33,0.395,0.46,0.51,0.58,0.66,0.73,0.81,0.87,0.96]\n",
    "\n",
    "#Unsicherheit von T\n",
    "uTS = [0,1,1,1,1,1,1,1,1,0] #Schwankung der T \n",
    "uT1 = 0.29\n",
    "uT = []\n",
    "\n",
    "#Schrittmotor\n",
    "uSl = 0.29*10**(-5)\n",
    "uS = np.sqrt(uSl**2)\n",
    "\n",
    "#Spulenstrom\n",
    "uA = 0.29\n",
    "uIS = [0,1,0,0,0,0,0,0,0,0] #Schwankung von I \n",
    "uI = []\n",
    "\n",
    "#B-Feld\n",
    "B = []\n",
    "uB = []\n",
    "\n",
    "#Gradient des B-Feldes\n",
    "dB = []\n",
    "udB = []\n",
    "\n",
    "#x&y sowie Unsicherheit von x&y\n",
    "x = []\n",
    "y = []\n",
    "ux = []\n",
    "uy = []\n",
    "\n",
    "#Unsicherheit der Temperatur\n",
    "for i in np.arange(0, len(uTS)):\n",
    "    uT.append(np.sqrt((uT1)**2 + (uTS[i])**2))\n",
    "\n",
    "#Unsicherheit von A\n",
    "for i in np.arange(0,len(I)):\n",
    "    uI.append(np.sqrt((uA)**2 + (uIS[i])**2))\n",
    "\n",
    "#B-feld & Unsicherheit\n",
    "for i in np.arange(0,len(I)):\n",
    "    B.append(-0.00512 + 0.55713 * I[i]+0.26883 * I[i]**2 -0.24218 * I[i] **3)\n",
    "    uB.append(np.sqrt(((0.55713 + 2 * 0.26883 * I[i]\n",
    "                        - 3 * 0.24218 * I[i]**2) * uI[i])**2))\n",
    "#Gradient des B-Feldes berechnen\n",
    "for i in np.arange(0,len(B)):\n",
    "    dB.append((B[i] * eps)/(a))\n",
    "    udB.append(np.sqrt( ((eps)/(a)*uB[i])**2 + ((B[i]/a) * ueps)**2))\n",
    "\n",
    "#x & y berechnen & Unsicherheiten\n",
    "for i in np.arange(0,len(ue)):\n",
    "    y.append(ue[i] * 10**(-5) * 6 * const.k * T[i])\n",
    "    x.append(dB[i] * l * L *(1 - L/(2*l)))\n",
    "    \n",
    "    #uy.append(np.sqrt((6 * const.k * T[i] *uue[i]*10**(-5))**2+(ue[i]* 10**(-5) * 6 * const.k * uT[i])**2))\n",
    "    #ux.append(np.sqrt((dB[i]**2 * l * L * (1 - L/(2* l)) * udB[i])**2))\n",
    "\n",
    "plt.plot(x,y,\".\", label = \"Daten Punkte\")\n",
    "cap,cap1 = curve_fit(linear,np.array(x),np.array(y))\n",
    "plt.plot(x,linear(np.array(x),*cap), label= \"Linearer Fit\")\n",
    "plt.xlabel(r\"$\\mathrm{T\\cdot m}$\")\n",
    "plt.ylabel(r\"$\\mathrm{m\\cdot J}$\")\n",
    "plt.legend(loc = 0)\n",
    "plt.savefig(\"linearfit.pdf\")\n",
    "print(cap)"
   ]
  },
  {
   "cell_type": "code",
   "execution_count": 62,
   "metadata": {},
   "outputs": [],
   "source": [
    "#andere mgl der Messunsicheheit: \n",
    "newux = []\n",
    "newuy = []\n",
    "for i in range(len(T)):\n",
    "    newuy.append(np.sqrt((6 * const.k * T[i] *uue[i]*10**(-5))**2+(ue[i]* 10**(-5) * 6 * const.k * uT[i])**2))\n",
    "\n",
    "    newux.append(np.sqrt(\n",
    "           (((0.55713 + 2 * 0.26883 * I[i]- 3 * 0.24218 * I[i]**2) * uI[i]) * eps *l*L*(1-L/(2*l))/(a))**2\n",
    "        +  ((-0.00512 + 0.55713 * I[i]+0.26883 * I[i]**2 -0.24218 * I[i] **3) * eps**2 * l * L* (1-L/(2 *l))/(a)*ueps)**2\n",
    "    ))"
   ]
  },
  {
   "cell_type": "code",
   "execution_count": null,
   "metadata": {},
   "outputs": [],
   "source": [
    "f = ()/()"
   ]
  }
 ],
 "metadata": {
  "kernelspec": {
   "display_name": "Python 3 (ipykernel)",
   "language": "python",
   "name": "python3"
  },
  "language_info": {
   "codemirror_mode": {
    "name": "ipython",
    "version": 3
   },
   "file_extension": ".py",
   "mimetype": "text/x-python",
   "name": "python",
   "nbconvert_exporter": "python",
   "pygments_lexer": "ipython3",
   "version": "3.10.9"
  },
  "vscode": {
   "interpreter": {
    "hash": "0daaec53677888ef3de284823ee6071e99ab1a3d916c18224b492ea76c810159"
   }
  }
 },
 "nbformat": 4,
 "nbformat_minor": 2
}
